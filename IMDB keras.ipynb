{
 "cells": [
  {
   "cell_type": "code",
   "execution_count": 1,
   "metadata": {},
   "outputs": [],
   "source": [
    "# import os\n",
    "# os.environ[\"KERAS_BACKEND\"] = \"plaidml.keras.backend\""
   ]
  },
  {
   "cell_type": "code",
   "execution_count": 2,
   "metadata": {},
   "outputs": [
    {
     "name": "stderr",
     "output_type": "stream",
     "text": [
      "Using TensorFlow backend.\n"
     ]
    }
   ],
   "source": [
    "import warnings\n",
    "warnings.simplefilter(action='ignore', category=FutureWarning)\n",
    "\n",
    "import tensorflow as tf  #using tf v.1.14.0\n",
    "import keras\n",
    "import numpy as np"
   ]
  },
  {
   "cell_type": "code",
   "execution_count": 3,
   "metadata": {},
   "outputs": [],
   "source": [
    "np_load_old = np.load\n",
    "\n",
    "# modify the default parameters of np.load\n",
    "np.load = lambda *a,**k: np_load_old(*a, allow_pickle=True, **k)"
   ]
  },
  {
   "cell_type": "code",
   "execution_count": 4,
   "metadata": {},
   "outputs": [],
   "source": [
    "imdb = keras.datasets.imdb\n",
    "\n",
    "(train_data, train_labels), (test_data, test_labels) = imdb.load_data(num_words=88000)"
   ]
  },
  {
   "cell_type": "code",
   "execution_count": 5,
   "metadata": {},
   "outputs": [],
   "source": [
    "np.load = np_load_old"
   ]
  },
  {
   "cell_type": "code",
   "execution_count": 6,
   "metadata": {},
   "outputs": [],
   "source": [
    "_word_index = imdb.get_word_index()\n",
    "\n",
    "word_index = {k:(v+3) for k,v in _word_index.items()}\n",
    "word_index[\"<PAD>\"] = 0\n",
    "word_index[\"<START>\"] = 1\n",
    "word_index[\"<UNK>\"] = 2  # unknown\n",
    "word_index[\"<UNUSED>\"] = 3\n",
    "\n",
    "reverse_word_index = dict([(value, key) for (key, value) in word_index.items()])\n",
    "\n",
    "def decode_review(text):\n",
    "    return \" \".join([reverse_word_index.get(i, \"?\") for i in text])"
   ]
  },
  {
   "cell_type": "code",
   "execution_count": 7,
   "metadata": {},
   "outputs": [],
   "source": [
    "train_data = keras.preprocessing.sequence.pad_sequences(train_data, value=word_index[\"<PAD>\"], padding=\"post\", maxlen=250)\n",
    "test_data = keras.preprocessing.sequence.pad_sequences(test_data, value=word_index[\"<PAD>\"], padding=\"post\", maxlen=250)"
   ]
  },
  {
   "cell_type": "code",
   "execution_count": 8,
   "metadata": {},
   "outputs": [
    {
     "name": "stdout",
     "output_type": "stream",
     "text": [
      "WARNING:tensorflow:From d:\\programs\\python\\python37\\lib\\site-packages\\keras\\backend\\tensorflow_backend.py:74: The name tf.get_default_graph is deprecated. Please use tf.compat.v1.get_default_graph instead.\n",
      "\n",
      "WARNING:tensorflow:From d:\\programs\\python\\python37\\lib\\site-packages\\keras\\backend\\tensorflow_backend.py:517: The name tf.placeholder is deprecated. Please use tf.compat.v1.placeholder instead.\n",
      "\n",
      "WARNING:tensorflow:From d:\\programs\\python\\python37\\lib\\site-packages\\keras\\backend\\tensorflow_backend.py:4138: The name tf.random_uniform is deprecated. Please use tf.random.uniform instead.\n",
      "\n"
     ]
    }
   ],
   "source": [
    "model = keras.Sequential()\n",
    "model.add(keras.layers.Embedding(88000, 16))\n",
    "model.add(keras.layers.GlobalAveragePooling1D())\n",
    "model.add(keras.layers.Dense(16, activation='relu'))\n",
    "model.add(keras.layers.Dense(1, activation='sigmoid'))"
   ]
  },
  {
   "cell_type": "code",
   "execution_count": 9,
   "metadata": {},
   "outputs": [
    {
     "name": "stdout",
     "output_type": "stream",
     "text": [
      "_________________________________________________________________\n",
      "Layer (type)                 Output Shape              Param #   \n",
      "=================================================================\n",
      "embedding_1 (Embedding)      (None, None, 16)          1408000   \n",
      "_________________________________________________________________\n",
      "global_average_pooling1d_1 ( (None, 16)                0         \n",
      "_________________________________________________________________\n",
      "dense_1 (Dense)              (None, 16)                272       \n",
      "_________________________________________________________________\n",
      "dense_2 (Dense)              (None, 1)                 17        \n",
      "=================================================================\n",
      "Total params: 1,408,289\n",
      "Trainable params: 1,408,289\n",
      "Non-trainable params: 0\n",
      "_________________________________________________________________\n"
     ]
    }
   ],
   "source": [
    "model.summary()"
   ]
  },
  {
   "cell_type": "code",
   "execution_count": 10,
   "metadata": {},
   "outputs": [
    {
     "name": "stdout",
     "output_type": "stream",
     "text": [
      "WARNING:tensorflow:From d:\\programs\\python\\python37\\lib\\site-packages\\keras\\optimizers.py:790: The name tf.train.Optimizer is deprecated. Please use tf.compat.v1.train.Optimizer instead.\n",
      "\n",
      "WARNING:tensorflow:From d:\\programs\\python\\python37\\lib\\site-packages\\keras\\backend\\tensorflow_backend.py:3376: The name tf.log is deprecated. Please use tf.math.log instead.\n",
      "\n",
      "WARNING:tensorflow:From d:\\programs\\python\\python37\\lib\\site-packages\\tensorflow\\python\\ops\\nn_impl.py:180: add_dispatch_support.<locals>.wrapper (from tensorflow.python.ops.array_ops) is deprecated and will be removed in a future version.\n",
      "Instructions for updating:\n",
      "Use tf.where in 2.0, which has the same broadcast rule as np.where\n"
     ]
    }
   ],
   "source": [
    "model.compile(optimizer=\"adam\", loss=\"binary_crossentropy\", metrics=[\"accuracy\"])"
   ]
  },
  {
   "cell_type": "code",
   "execution_count": 11,
   "metadata": {},
   "outputs": [],
   "source": [
    "x_train = train_data[10000:]\n",
    "x_val = train_data[:10000]\n",
    "\n",
    "y_train = train_labels[10000:]\n",
    "y_val = train_labels[:10000]"
   ]
  },
  {
   "cell_type": "code",
   "execution_count": 12,
   "metadata": {},
   "outputs": [
    {
     "name": "stdout",
     "output_type": "stream",
     "text": [
      "WARNING:tensorflow:From d:\\programs\\python\\python37\\lib\\site-packages\\keras\\backend\\tensorflow_backend.py:986: The name tf.assign_add is deprecated. Please use tf.compat.v1.assign_add instead.\n",
      "\n",
      "Train on 15000 samples, validate on 10000 samples\n",
      "Epoch 1/40\n",
      "15000/15000 [==============================] - 3s 167us/step - loss: 0.6916 - acc: 0.6041 - val_loss: 0.6895 - val_acc: 0.5659\n",
      "Epoch 2/40\n",
      "15000/15000 [==============================] - 2s 102us/step - loss: 0.6848 - acc: 0.7298 - val_loss: 0.6801 - val_acc: 0.7558\n",
      "Epoch 3/40\n",
      "15000/15000 [==============================] - 2s 103us/step - loss: 0.6703 - acc: 0.7707 - val_loss: 0.6623 - val_acc: 0.7447\n",
      "Epoch 4/40\n",
      "15000/15000 [==============================] - 2s 103us/step - loss: 0.6442 - acc: 0.7849 - val_loss: 0.6334 - val_acc: 0.7839\n",
      "Epoch 5/40\n",
      "15000/15000 [==============================] - 2s 106us/step - loss: 0.6034 - acc: 0.8133 - val_loss: 0.5917 - val_acc: 0.7976\n",
      "Epoch 6/40\n",
      "15000/15000 [==============================] - 2s 103us/step - loss: 0.5517 - acc: 0.8308 - val_loss: 0.5459 - val_acc: 0.8095\n",
      "Epoch 7/40\n",
      "15000/15000 [==============================] - 2s 105us/step - loss: 0.4954 - acc: 0.8509 - val_loss: 0.4975 - val_acc: 0.8231\n",
      "Epoch 8/40\n",
      "15000/15000 [==============================] - 2s 103us/step - loss: 0.4409 - acc: 0.8684 - val_loss: 0.4548 - val_acc: 0.8373\n",
      "Epoch 9/40\n",
      "15000/15000 [==============================] - 2s 104us/step - loss: 0.3917 - acc: 0.8840 - val_loss: 0.4182 - val_acc: 0.8490\n",
      "Epoch 10/40\n",
      "15000/15000 [==============================] - 2s 109us/step - loss: 0.3492 - acc: 0.8974 - val_loss: 0.3889 - val_acc: 0.8571\n",
      "Epoch 11/40\n",
      "15000/15000 [==============================] - 2s 102us/step - loss: 0.3130 - acc: 0.9070 - val_loss: 0.3649 - val_acc: 0.8658\n",
      "Epoch 12/40\n",
      "15000/15000 [==============================] - 2s 114us/step - loss: 0.2826 - acc: 0.9145 - val_loss: 0.3458 - val_acc: 0.8713\n",
      "Epoch 13/40\n",
      "15000/15000 [==============================] - 2s 111us/step - loss: 0.2563 - acc: 0.9225 - val_loss: 0.3322 - val_acc: 0.8725\n",
      "Epoch 14/40\n",
      "15000/15000 [==============================] - 2s 108us/step - loss: 0.2336 - acc: 0.9301 - val_loss: 0.3188 - val_acc: 0.8773\n",
      "Epoch 15/40\n",
      "15000/15000 [==============================] - 2s 107us/step - loss: 0.2136 - acc: 0.9374 - val_loss: 0.3089 - val_acc: 0.8790\n",
      "Epoch 16/40\n",
      "15000/15000 [==============================] - 2s 106us/step - loss: 0.1958 - acc: 0.9425 - val_loss: 0.3019 - val_acc: 0.8824\n",
      "Epoch 17/40\n",
      "15000/15000 [==============================] - 2s 109us/step - loss: 0.1800 - acc: 0.9489 - val_loss: 0.2949 - val_acc: 0.8841\n",
      "Epoch 18/40\n",
      "15000/15000 [==============================] - 2s 111us/step - loss: 0.1657 - acc: 0.9543 - val_loss: 0.2899 - val_acc: 0.8843\n",
      "Epoch 19/40\n",
      "15000/15000 [==============================] - 2s 112us/step - loss: 0.1528 - acc: 0.9590 - val_loss: 0.2862 - val_acc: 0.8851\n",
      "Epoch 20/40\n",
      "15000/15000 [==============================] - 2s 118us/step - loss: 0.1409 - acc: 0.9632 - val_loss: 0.2826 - val_acc: 0.8874\n",
      "Epoch 21/40\n",
      "15000/15000 [==============================] - 2s 120us/step - loss: 0.1301 - acc: 0.9676 - val_loss: 0.2802 - val_acc: 0.8878\n",
      "Epoch 22/40\n",
      "15000/15000 [==============================] - 2s 105us/step - loss: 0.1203 - acc: 0.9702 - val_loss: 0.2788 - val_acc: 0.8887\n",
      "Epoch 23/40\n",
      "15000/15000 [==============================] - 2s 106us/step - loss: 0.1116 - acc: 0.9735 - val_loss: 0.2773 - val_acc: 0.8899\n",
      "Epoch 24/40\n",
      "15000/15000 [==============================] - 2s 107us/step - loss: 0.1037 - acc: 0.9769 - val_loss: 0.2767 - val_acc: 0.8904\n",
      "Epoch 25/40\n",
      "15000/15000 [==============================] - 2s 109us/step - loss: 0.0955 - acc: 0.9793 - val_loss: 0.2772 - val_acc: 0.8885\n",
      "Epoch 26/40\n",
      "15000/15000 [==============================] - 2s 106us/step - loss: 0.0889 - acc: 0.9819 - val_loss: 0.2779 - val_acc: 0.8893\n",
      "Epoch 27/40\n",
      "15000/15000 [==============================] - 2s 104us/step - loss: 0.0826 - acc: 0.9832 - val_loss: 0.2783 - val_acc: 0.8898\n",
      "Epoch 28/40\n",
      "15000/15000 [==============================] - 2s 103us/step - loss: 0.0766 - acc: 0.9848 - val_loss: 0.2783 - val_acc: 0.8896\n",
      "Epoch 29/40\n",
      "15000/15000 [==============================] - 2s 107us/step - loss: 0.0714 - acc: 0.9865 - val_loss: 0.2794 - val_acc: 0.8900\n",
      "Epoch 30/40\n",
      "15000/15000 [==============================] - 2s 103us/step - loss: 0.0666 - acc: 0.9880 - val_loss: 0.2823 - val_acc: 0.8887\n",
      "Epoch 31/40\n",
      "15000/15000 [==============================] - 2s 105us/step - loss: 0.0621 - acc: 0.9887 - val_loss: 0.2826 - val_acc: 0.8895\n",
      "Epoch 32/40\n",
      "15000/15000 [==============================] - 2s 106us/step - loss: 0.0578 - acc: 0.9898 - val_loss: 0.2854 - val_acc: 0.8893\n",
      "Epoch 33/40\n",
      "15000/15000 [==============================] - 2s 108us/step - loss: 0.0540 - acc: 0.9913 - val_loss: 0.2862 - val_acc: 0.8899\n",
      "Epoch 34/40\n",
      "15000/15000 [==============================] - 2s 115us/step - loss: 0.0504 - acc: 0.9918 - val_loss: 0.2899 - val_acc: 0.8877\n",
      "Epoch 35/40\n",
      "15000/15000 [==============================] - 4s 289us/step - loss: 0.0473 - acc: 0.9929 - val_loss: 0.2933 - val_acc: 0.8874\n",
      "Epoch 36/40\n",
      "15000/15000 [==============================] - 2s 137us/step - loss: 0.0444 - acc: 0.9932 - val_loss: 0.2944 - val_acc: 0.8881\n",
      "Epoch 37/40\n",
      "15000/15000 [==============================] - 2s 116us/step - loss: 0.0413 - acc: 0.9941 - val_loss: 0.2964 - val_acc: 0.8893\n",
      "Epoch 38/40\n",
      "15000/15000 [==============================] - 2s 112us/step - loss: 0.0386 - acc: 0.9945 - val_loss: 0.2992 - val_acc: 0.8874\n",
      "Epoch 39/40\n",
      "15000/15000 [==============================] - 2s 111us/step - loss: 0.0364 - acc: 0.9949 - val_loss: 0.3016 - val_acc: 0.8884\n",
      "Epoch 40/40\n",
      "15000/15000 [==============================] - 2s 116us/step - loss: 0.0340 - acc: 0.9955 - val_loss: 0.3041 - val_acc: 0.8873\n"
     ]
    }
   ],
   "source": [
    "fitModel = model.fit(x_train, y_train, epochs=40, batch_size=512, validation_data=(x_val, y_val), verbose=1)"
   ]
  },
  {
   "cell_type": "code",
   "execution_count": 13,
   "metadata": {},
   "outputs": [
    {
     "name": "stdout",
     "output_type": "stream",
     "text": [
      "25000/25000 [==============================] - 1s 22us/step\n",
      "[0.3405089078140259, 0.87144]\n"
     ]
    }
   ],
   "source": [
    "results = model.evaluate(test_data, test_labels)\n",
    "print(results)"
   ]
  },
  {
   "cell_type": "code",
   "execution_count": 14,
   "metadata": {},
   "outputs": [],
   "source": [
    "model.save(\"model.h5\")"
   ]
  },
  {
   "cell_type": "code",
   "execution_count": 15,
   "metadata": {},
   "outputs": [],
   "source": [
    "model = keras.models.load_model(\"model.h5\")"
   ]
  },
  {
   "cell_type": "code",
   "execution_count": 16,
   "metadata": {},
   "outputs": [],
   "source": [
    "def review_encode(s):\n",
    "    encoded = [1]\n",
    "\n",
    "    for word in s:\n",
    "        if word.lower() in word_index:\n",
    "            encoded.append(word_index[word.lower()])\n",
    "        else:\n",
    "            encoded.append(2)\n",
    "\n",
    "    return encoded"
   ]
  },
  {
   "cell_type": "code",
   "execution_count": 17,
   "metadata": {},
   "outputs": [
    {
     "name": "stdout",
     "output_type": "stream",
     "text": [
      "Of all the animation classics from the Walt Disney Company, there is perhaps none that is more celebrated than \"The Lion King.\" Its acclaim is understandable: this is quite simply a glorious work of art.\"The Lion King\" gets off to a fantastic start. The film's opening number, \"The Circle of Life,\" is outstanding. The song lasts for about four minutes, but from the first sound, the audience is floored. Not even National Geographic can capture something this beautiful and dramatic. Not only is this easily the greatest moment in film animation, this is one of the greatest sequences in film history. The story that follows is not as majestic, but the film has to tell a story. Actually, the rest of the film holds up quite well. The story takes place in Africa, where the lions rule. Their king, Mufasa (James Earl Jones) has just been blessed with a son, Simba (Jonathan Taylor Thomas), who goes in front of his uncle Scar (Jeremy Irons) as next in line for the throne. Scar is furious, and sets in motion plans to usurp the throne for himself. After a tragedy occurs and Mufasa is killed, Scar persuades Simba to flee, leaving himself as king. Simba grows up in exile, but he learns that while he can run away from his past, he can never escape it. When viewing the film, it is obvious that \"The Lion King\" is quite different from its predecessors (and successors). This is an epic story that contains more dramatic power than all the other Disney films combined. While there are definitely some light-hearted moments, there is no denying the dark drama that takes up the bulk of the story. While it could be argued that Disney is the champion of family entertainment, this film is not for the very young. Some of the sequences are very dark and violent, many bordering on frightening, even for the older crowd.The voice actors are terrific. Jonathan Taylor Thomas brings a large dose of innocence to Young Simba. He's mischievous, but also terribly naive. His older counterpart, voiced by Matthew Broderick, equals him. He's older, but no less mature. The voices are so similar that it's almost impossible not to believe that they are the same character at different ages. Perhaps no one could have been better suited for the role of Mufasa than James Earl Jones. His baritone voice gives the Mufasa a quality of great power and wisdom; there is no question that his role is king. As Scar, Jeremy Irons is pitch-perfect. The drawing of the character is villainous, but Irons' vocal work complements the animation to create one of the most memorable, and vicious, villains in Disney history. He's unquestionably evil, but he's also clever, which makes him all the more dangerous. Manipulation, not violence is his greatest weapon. Providing some much needed comic relief are Nathan Lane and Ernie Sabella as Timon and Pumbaa, two other outcasts (a meerkat and a warthog), and Rowan Atkinson as Zazu. While there is definite fun from these characters, neither the actors nor the filmmakers allow them to go over-the-top and destroy the mood of the film.Disney's animated features are known for their gorgeous artwork. Nowhere is this more apparent than in \"The Lion King.\" Every single frame is jaw-dropping. The colors are rich, and the drawings are sharp and beautiful. One of the pitfalls of animation (both computer and hand-drawn) is that there is sometimes a visible distance between the subject and the background, making it seem as if the figure animation was cut and pasted on the background (this is obviously what happens, but it is up to the artists to make sure that it isn't noticeable). There is none of that here.Throughout the Golden Age of Disney animation, the films have been musicals. \"The Lion King\" is no different, and the songs are brilliant. All of the numbers are standouts (\"Can You Feel the Love Tonight\" won the Oscar, but in my opinion, \"The Circle of Life\" was better). In the cases of Simba and Nala (Simba's girlfriend), both young and old, there is a noticeable difference between the speaking and singing parts (everyone else does their own singing and speaking), but never mind. It still works, and that's what's important.\"The Lion King\" is not flawless, but on first viewing, they aren't noticeable, and it is likely that the young won't ever notice them. \"Beauty and the Beast\" was the first animated film to get an Oscar nomination for Best Picture (it lost to \"The Silence of the Lambs\"), and is thus far the only animated film to receive such an honor. That being the case, it's hard to understand why \"The Lion King\" was not given the same distinction. The two films are more or less equal in quality, and the nominees for the honor that year were not strong. If you haven't already, see \"The Lion King.\" You won't be disappointed.\n",
      "[[    6  4687  3744   200     4   875     5     4   978   231    12   306\n",
      "     17    48     4   822   748    16   605     5 12625    23     4   978\n",
      "     14     9   540    51   571    21    12     9    56     8     4  2719\n",
      "      8    97   252    15    12   218  6456    50     9   600     7    15\n",
      "      2     4  2050   559     7   910   748     4   108    28    77  2769\n",
      "      4  3082   711     9    57   275     5     4   690    26   530    32\n",
      "      7     4  1396    26 16015    70    25   235     4   119  4487  1199\n",
      "      4   735    21    11    61   652     4  4246     7   113    16   128\n",
      "     11     4  2936     7 10539     5 35738 20403   980   199   185     5\n",
      "    154    50     9     6  6456  1474   200     4  1386     5  1118   531\n",
      "    316   334   127    68   205  1118     5  1386    21   115   330    12\n",
      "    131   495     5   198   803     2  3082   711     9    24  3562    21\n",
      "     23    86   829    36   713  6456     5    12     9  1329    15     4\n",
      "    185   528   126  1495    98   936     5     4  2773    16     4    86\n",
      "   1125    22     8    79    35   735  4372    18   118   431    12   416\n",
      "      8     4  3542     7     4 10721     5     9  1346   230     4    64\n",
      "   1125    22     8  3911   141    35  2898    15   112     4   420    45\n",
      "    254     8   391   138     4  3082   711    16    24   348     4   172\n",
      "   8076     4   107   108    26    53    42   329  3215    11   489     5\n",
      "      4 13341    18     4  2898    15   291    71    24   565    48    25\n",
      "    774   460    67     4  3082   711    25   528    30   685]]\n",
      "[0.97801536]\n"
     ]
    }
   ],
   "source": [
    "with open(\"test.txt\", encoding=\"utf-8\") as f:\n",
    "    for line in f.readlines():\n",
    "        nline = line.replace(\",\", \"\").replace(\".\", \"\").replace(\"(\", \"\").replace(\")\", \"\").replace(\":\", \"\").replace(\"\\\"\",\"\").strip().split(\" \")\n",
    "        encode = review_encode(nline)\n",
    "        encode = keras.preprocessing.sequence.pad_sequences([encode], value=word_index[\"<PAD>\"], padding=\"post\", maxlen=250)\n",
    "        predict = model.predict(encode)\n",
    "        print(line)\n",
    "        print(encode)\n",
    "        print(predict[0])"
   ]
  }
 ],
 "metadata": {
  "kernelspec": {
   "display_name": "Python 3",
   "language": "python",
   "name": "python3"
  },
  "language_info": {
   "codemirror_mode": {
    "name": "ipython",
    "version": 3
   },
   "file_extension": ".py",
   "mimetype": "text/x-python",
   "name": "python",
   "nbconvert_exporter": "python",
   "pygments_lexer": "ipython3",
   "version": "3.7.4"
  }
 },
 "nbformat": 4,
 "nbformat_minor": 2
}
